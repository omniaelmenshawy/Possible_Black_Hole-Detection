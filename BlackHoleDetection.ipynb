{
 "cells": [
  {
   "cell_type": "markdown",
   "metadata": {},
   "source": [
    "# After A star's death,it could dissapear in the huge space, form a neutron star, make a supernova, or form a black hole. it all dependes on some physical features that a star may have.\n",
    "\n",
    "<img src=\"https://www.schoolsobservatory.org/sites/default/files/astro/starcycle.jpg\">\n",
    "\n",
    "# This data has some star feature like:\n",
    "- Visual Apparent Magnitude of the Star (Vmag)\n",
    "- Distance Between the Star and the Earth (Plx)\n",
    "- Standard Error of Plx (e_Plx)\n",
    "- B-V color index (B-V)\n",
    "- Spectral type (SpType)\n",
    "- Absolute Magnitude of the Star (Amag)\n",
    "# The real target which was published for this data was to spectral classification:\n",
    "\n",
    "<img src=\"https://astronomy.com/-/media/Images/Magazine%20Articles/2021/04/ScreenShot20210420at3.19.16PM.jpg?mw=600\">\n",
    "\n",
    "# However, I added some features such as the Tempreature, Luminousity, Coldness, and radius to detect if there are possible Black holes formation in the far future or not.\n",
    "\n",
    "# here are some info about the features: \n",
    "- A hot star has a B-V color index close to 0 or negative, while a cool star has a B-V color index close to 2.0. Other stars are somewhere in between.\n",
    "- Cold  Star means its age is older\n",
    "\n",
    "- Dwarf (0) and Giant (1)\n",
    "- The more luminous an object, the smaller the numerical value of its absolute magnitude\n",
    "\n",
    "# To Understand the Relation between the feature, I will use a finely distrebuted data to understand the basic features, the I'll use the real dataset."
   ]
  },
  {
   "cell_type": "code",
   "execution_count": null,
   "metadata": {},
   "outputs": [],
   "source": [
    "import numpy as np # linear algebra\n",
    "import pandas as pd # data processing, CSV file I/O (e.g. pd.read_csv)\n",
    "import matplotlib.pyplot as plt\n",
    "import seaborn as sns\n",
    "from sklearn.naive_bayes import GaussianNB\n",
    "from sklearn.metrics import accuracy_score, classification_report, confusion_matrix, plot_confusion_matrix\n",
    "from sklearn.linear_model import LogisticRegression\n",
    "import plotly.express as px\n",
    "import plotly.graph_objects as go\n",
    "from dataprep.datasets import load_dataset\n",
    "from dataprep.eda import plot\n",
    "from dataprep.eda import plot_diff\n",
    "from dataprep.eda import plot_correlation\n",
    "from dataprep.eda import plot_missing\n",
    "import math"
   ]
  },
  {
   "cell_type": "markdown",
   "metadata": {},
   "source": [
    "# 1) The Example dataset:"
   ]
  },
  {
   "cell_type": "code",
   "execution_count": null,
   "metadata": {},
   "outputs": [],
   "source": [
    "df= pd.read_csv(\"//Users//omniaelmenshawy//Desktop///Star.csv\")"
   ]
  },
  {
   "cell_type": "code",
   "execution_count": null,
   "metadata": {},
   "outputs": [],
   "source": [
    "df.head(5)"
   ]
  },
  {
   "cell_type": "code",
   "execution_count": null,
   "metadata": {},
   "outputs": [],
   "source": [
    "df.describe().T.style.background_gradient(subset=['mean','std','50%','count'], cmap='PuBu')"
   ]
  },
  {
   "cell_type": "code",
   "execution_count": null,
   "metadata": {},
   "outputs": [],
   "source": [
    "df.corr()"
   ]
  },
  {
   "cell_type": "markdown",
   "metadata": {},
   "source": [
    "## Visualizing eah star by its name:"
   ]
  },
  {
   "cell_type": "code",
   "execution_count": null,
   "metadata": {},
   "outputs": [],
   "source": [
    "df['Type Names']= df['Star type']"
   ]
  },
  {
   "cell_type": "code",
   "execution_count": null,
   "metadata": {},
   "outputs": [],
   "source": [
    "df['Type Names'].replace(0  ,'Brown Dwarf',inplace=True)\n",
    "df['Type Names'].replace(1  ,'Red Dwarf',inplace=True)\n",
    "df['Type Names'].replace(2  ,'White Dwarf',inplace=True)\n",
    "df['Type Names'].replace(3  ,'Main Sequence',inplace=True)\n",
    "df['Type Names'].replace(4  ,'Supergiant',inplace=True)\n",
    "df['Type Names'].replace(5  ,'Hypergiant',inplace=True)"
   ]
  },
  {
   "cell_type": "markdown",
   "metadata": {},
   "source": [
    "## label Encoding for better Visualization:"
   ]
  },
  {
   "cell_type": "code",
   "execution_count": null,
   "metadata": {},
   "outputs": [],
   "source": [
    "df['color']= df['Star color']"
   ]
  },
  {
   "cell_type": "code",
   "execution_count": null,
   "metadata": {},
   "outputs": [],
   "source": [
    "df['Spectral']= df['Spectral Class']"
   ]
  },
  {
   "cell_type": "code",
   "execution_count": null,
   "metadata": {},
   "outputs": [],
   "source": [
    "from sklearn.preprocessing import LabelEncoder\n",
    "color_le = LabelEncoder()\n",
    "df['color'] = color_le.fit_transform(df.color)"
   ]
  },
  {
   "cell_type": "code",
   "execution_count": null,
   "metadata": {},
   "outputs": [],
   "source": [
    "color_le.classes_"
   ]
  },
  {
   "cell_type": "code",
   "execution_count": null,
   "metadata": {},
   "outputs": [],
   "source": [
    "Spectral_le = LabelEncoder()\n",
    "df['Spectral'] = Spectral_le.fit_transform(df.Spectral)"
   ]
  },
  {
   "cell_type": "code",
   "execution_count": null,
   "metadata": {},
   "outputs": [],
   "source": [
    "Spectral_le.classes_"
   ]
  },
  {
   "cell_type": "markdown",
   "metadata": {},
   "source": [
    "### Now we have:\n",
    "#### spectral  B = 1 , A = 0, O = 6, M= 5, K=4 , G= 3\n",
    "#### color Red = 10, Blue = 0, Blue white = 2"
   ]
  },
  {
   "cell_type": "code",
   "execution_count": null,
   "metadata": {},
   "outputs": [],
   "source": [
    "df.columns"
   ]
  },
  {
   "cell_type": "markdown",
   "metadata": {},
   "source": [
    "## Radius and Star type Relation:\n",
    "####  From the Below Observation we understand that Radius of each star typr has a huge difference in magnitude, for example, Hyper Giants has the biggest radius, which means that they are the biggest in mass also, while the dwarfs are the smallest stars existed.\n"
   ]
  },
  {
   "cell_type": "code",
   "execution_count": null,
   "metadata": {
    "scrolled": true
   },
   "outputs": [],
   "source": [
    "fig = px.scatter(df,\n",
    "                 x=\"Spectral\", y='Radius(R/Ro)', size=\"Star type\", color=\"Type Names\"\n",
    "                 , size_max=60,\n",
    "                 template='plotly_dark', title='Star Type vs Radius')\n",
    "fig.show()"
   ]
  },
  {
   "cell_type": "markdown",
   "metadata": {},
   "source": [
    "### Taking the radius as the size to detirmine the real difference in size:\n",
    "\n",
    "- Now we can observe the real difference.\n",
    "- For our interest in detecting a black hole, we need the Hypergiant and Supergiant Stars."
   ]
  },
  {
   "cell_type": "code",
   "execution_count": null,
   "metadata": {
    "scrolled": true
   },
   "outputs": [],
   "source": [
    "fig = px.scatter(df,\n",
    "                 x=\"Star type\", y='Radius(R/Ro)', size=\"Radius(R/Ro)\", color=\"Type Names\",\n",
    "                  size_max=60,\n",
    "                 template='plotly_dark', title='Star Type vs radius as size')\n",
    "fig.show()"
   ]
  },
  {
   "cell_type": "markdown",
   "metadata": {},
   "source": [
    "## Spectral Class and its Tempreature:\n",
    "\n",
    "- we can clearly notice that classes which starts with M, K, and G are the lowest in Tempreature, and these are the classes which we are interested in as we are looking for old stars, as they are more likly to die soon."
   ]
  },
  {
   "cell_type": "code",
   "execution_count": null,
   "metadata": {},
   "outputs": [],
   "source": [
    "fig = px.bar(df, x = 'Spectral Class',color=\"Temperature (K)\",hover_name=\"Type Names\", template = 'plotly_dark', title='Spectral Type vs temperature')\n",
    "fig.show()"
   ]
  },
  {
   "cell_type": "markdown",
   "metadata": {},
   "source": [
    "## Hertzsprung-Russell Diagram: \n",
    "- In the Hertzprung-Russell diagram the temperatures of stars are plotted against their luminosities. The position of a star in the diagram provides information about its present stage and its mass. Stars that burn hydrogen into helium lie on the diagonal branch, the so-called main sequence.\n",
    "<img src=\"http://cdn.eso.org/images/screen/eso0728c.jpg\">"
   ]
  },
  {
   "cell_type": "markdown",
   "metadata": {},
   "source": [
    "## Luminosity vs. Surface Temperature in degrees to visualize the Hertzsprung-Russell Diagram:\n",
    "\n",
    "- Our data has a similar shape as the diagram as the supergiants and hypergiants ar in the top of the graph.\n",
    "- Other normal starsspends their lives in the main sequence.\n",
    "- Most of the dwarfsare in the bottom of the graphwith the lowest temperatures and luminosity."
   ]
  },
  {
   "cell_type": "code",
   "execution_count": null,
   "metadata": {},
   "outputs": [],
   "source": [
    "fig = px.scatter(df, x=\"Temperature (K)\", y=\"Luminosity(L/Lo)\", hover_name=\"Type Names\",\n",
    "                 color=\"Type Names\",log_x=True, log_y=True, template = 'plotly_dark', title='Luminosity vs. Surface Temperature ')\n",
    "fig.show()"
   ]
  },
  {
   "cell_type": "markdown",
   "metadata": {},
   "source": [
    "## Final conclusion from the example data:\n",
    "- we need the same features in the new data to deteirmine the location of each star in the HR diagram"
   ]
  },
  {
   "cell_type": "markdown",
   "metadata": {},
   "source": [
    "# The Real dataset:"
   ]
  },
  {
   "cell_type": "code",
   "execution_count": null,
   "metadata": {
    "scrolled": true
   },
   "outputs": [],
   "source": [
    "path = \"//Users//omniaelmenshawy//Desktop///Star39552_balanced.csv\"\n",
    "df = pd.read_csv(path)\n",
    "df.head(5)"
   ]
  },
  {
   "cell_type": "markdown",
   "metadata": {},
   "source": [
    "## Converting Columns data type to float values"
   ]
  },
  {
   "cell_type": "code",
   "execution_count": null,
   "metadata": {},
   "outputs": [],
   "source": [
    "df[\"Vmag\"] = pd.to_numeric(df[\"Vmag\"], downcast=\"float\", errors='coerce')\n",
    "df[\"Plx\"] = pd.to_numeric(df[\"Plx\"], downcast=\"float\", errors='coerce')\n",
    "df[\"e_Plx\"] = pd.to_numeric(df[\"e_Plx\"], downcast=\"float\", errors='coerce')\n",
    "df[\"B-V\"] = pd.to_numeric(df[\"B-V\"], downcast=\"float\", errors='coerce')"
   ]
  },
  {
   "cell_type": "code",
   "execution_count": null,
   "metadata": {},
   "outputs": [],
   "source": []
  },
  {
   "cell_type": "markdown",
   "metadata": {},
   "source": [
    "###  If the sun is the nearist star to us, and its Plx = 8.794 148, so how come there are nearer stars to us?"
   ]
  },
  {
   "cell_type": "markdown",
   "metadata": {},
   "source": [
    "## Data Report and feature visualization:"
   ]
  },
  {
   "cell_type": "code",
   "execution_count": null,
   "metadata": {
    "scrolled": true
   },
   "outputs": [],
   "source": [
    "from dataprep.eda import create_report\n",
    "report = create_report(df, title='My Report')"
   ]
  },
  {
   "cell_type": "code",
   "execution_count": null,
   "metadata": {
    "scrolled": false
   },
   "outputs": [],
   "source": [
    "report"
   ]
  },
  {
   "cell_type": "markdown",
   "metadata": {},
   "source": [
    "## Reducing the error:"
   ]
  },
  {
   "cell_type": "code",
   "execution_count": null,
   "metadata": {},
   "outputs": [],
   "source": [
    "threshold = df['e_Plx'].mean() + 0.5\n",
    "\n",
    "df = df[df['e_Plx'] < threshold ]"
   ]
  },
  {
   "cell_type": "markdown",
   "metadata": {},
   "source": [
    "## Changing the target to a normal feature as it is not our intereset now:"
   ]
  },
  {
   "cell_type": "code",
   "execution_count": null,
   "metadata": {},
   "outputs": [],
   "source": [
    "df['GiantOrDwarf'] = df['TargetClass']"
   ]
  },
  {
   "cell_type": "markdown",
   "metadata": {},
   "source": [
    "# Calculating Temperature in Kelvins:\n",
    "\n",
    " <img src=\"https://wikimedia.org/api/rest_v1/media/math/render/svg/e018d8f17c023ec5145774ce2854aa3d9459b94e\">"
   ]
  },
  {
   "cell_type": "code",
   "execution_count": null,
   "metadata": {},
   "outputs": [],
   "source": [
    "df[\"Temp\"] = 4600*((1/(0.92*df['B-V']+1.7))+(1/(0.92*df['B-V']+0.62)))"
   ]
  },
  {
   "cell_type": "markdown",
   "metadata": {},
   "source": [
    "## From kelvins to degrees:\n",
    "- C = K - 273.15"
   ]
  },
  {
   "cell_type": "code",
   "execution_count": null,
   "metadata": {},
   "outputs": [],
   "source": [
    "#df['Temp']= df['Temp']- 273.15"
   ]
  },
  {
   "cell_type": "code",
   "execution_count": null,
   "metadata": {},
   "outputs": [],
   "source": [
    "df.info()"
   ]
  },
  {
   "cell_type": "markdown",
   "metadata": {},
   "source": [
    "### Making Sure that our equation is true:"
   ]
  },
  {
   "cell_type": "code",
   "execution_count": null,
   "metadata": {},
   "outputs": [],
   "source": [
    "from __future__ import print_function, division \n",
    "from PyAstronomy import pyasl\n",
    "b = pyasl.BallesterosBV_T()\n",
    "bv = 0.482\n",
    "# Convert B-V into effective temperature\n",
    "teff = b.bv2T(0.482)\n",
    "print(\"B-V = {0:4.2f} mag -> Teff = {1:4.0f} K\".format(bv, teff))\n",
    "# Convert effective temperature into B-V color\n",
    "teff = 4568.0\n",
    "bv = b.t2bv(teff)\n",
    "print(\"Teff = {0:4.0f} K -> B-V = {1:4.2f} mag\".format(teff, bv))"
   ]
  },
  {
   "cell_type": "code",
   "execution_count": null,
   "metadata": {},
   "outputs": [],
   "source": [
    "\"\"\"\n",
    "df = df[df.Plx != 0]\n",
    "\n",
    "#Reindex the dataframe\n",
    "df = df.reset_index(drop=True)\n",
    "\n",
    "df\n",
    "\"\"\""
   ]
  },
  {
   "cell_type": "markdown",
   "metadata": {},
   "source": [
    "## Calculating the Luminosity as L/Lo:\n",
    "\n",
    "- Absolute magnitude and luminosity are related with the formula\n",
    "\n",
    "### M = -2.5 * log₁₀(L / L₀)\n",
    "\n",
    "### where:\n",
    "\n",
    "- M is the absolute magnitude of the star;\n",
    "- L is its luminosity;\n",
    "- L₀ is the zero-point luminosity, equal to 3.0128 * 10²⁸ W."
   ]
  },
  {
   "cell_type": "code",
   "execution_count": null,
   "metadata": {},
   "outputs": [],
   "source": [
    "df[\"Luminosity\"] = ((10)**(df['Amag']/(-2.5)))\n",
    "                    #/((3.0128)*(10)**28))"
   ]
  },
  {
   "cell_type": "code",
   "execution_count": null,
   "metadata": {},
   "outputs": [],
   "source": [
    "df"
   ]
  },
  {
   "cell_type": "markdown",
   "metadata": {},
   "source": [
    "## Leaving only L values > 0 for further calculations:"
   ]
  },
  {
   "cell_type": "code",
   "execution_count": null,
   "metadata": {},
   "outputs": [],
   "source": [
    "df = df[df.Luminosity > 0]\n",
    "\n",
    "#Reindex the dataframe\n",
    "df = df.reset_index(drop=True)"
   ]
  },
  {
   "cell_type": "markdown",
   "metadata": {},
   "source": [
    "# Claculating the radius of the star in meters: \n",
    "\n",
    "<img src=\"https://i.imgur.com/tuKNRDE.png\">\n"
   ]
  },
  {
   "cell_type": "code",
   "execution_count": null,
   "metadata": {},
   "outputs": [],
   "source": [
    "df['Radius']= np.sqrt(((df['Luminosity'])*(3.827*(10**26)))/(4*3.141593*(5.7*(10**(-8)))*(df['Temp']**4)))"
   ]
  },
  {
   "cell_type": "code",
   "execution_count": null,
   "metadata": {},
   "outputs": [],
   "source": [
    "df.columns"
   ]
  },
  {
   "cell_type": "markdown",
   "metadata": {},
   "source": [
    "a star with a mass greater than 20 times the mass of our Sun may ultimately become a black hole;\n",
    "V(orbit) = SQRT(GM/R) "
   ]
  },
  {
   "cell_type": "code",
   "execution_count": null,
   "metadata": {},
   "outputs": [],
   "source": [
    "df.describe().T"
   ]
  },
  {
   "cell_type": "markdown",
   "metadata": {},
   "source": [
    "# Is the Star Giant or Dwarf?"
   ]
  },
  {
   "cell_type": "code",
   "execution_count": null,
   "metadata": {
    "scrolled": false
   },
   "outputs": [],
   "source": [
    "df['GiantOrDwarf'].value_counts()"
   ]
  },
  {
   "cell_type": "code",
   "execution_count": null,
   "metadata": {},
   "outputs": [],
   "source": [
    "colors_blue = [\"#132C33\", \"#264D58\", '#17869E', '#51C4D3', '#B4DBE9']\n",
    "colors_dark = [\"#1F1F1F\", \"#313131\", '#636363', '#AEAEAE', '#DADADA']"
   ]
  },
  {
   "cell_type": "code",
   "execution_count": null,
   "metadata": {},
   "outputs": [],
   "source": [
    "d= pd.DataFrame(df['GiantOrDwarf'].value_counts())\n",
    "fig = px.pie(d,values='GiantOrDwarf',names=['Giants','Dwarfs'],hole=0.4,\n",
    "            color_discrete_sequence=[colors_blue[3],colors_dark[3]],\n",
    "             labels={'label':'GiantOrDwarf','GiantOrDwarf':'No. Of Samples'})\n",
    "\n",
    "\n",
    "fig.add_annotation(text='Need to resample the data<br> to get a balanced dataset',\n",
    "                   x=1.2,y=0.9,showarrow=False,font_size=12,opacity=0.7,font_family='arial')\n",
    "fig.add_annotation(text='Classified Stars',\n",
    "                   x=0.5,y=0.5,showarrow=False,font_size=12,opacity=0.7,font_family='arial')\n",
    "\n",
    "fig.update_layout(\n",
    "    font_family='arial',\n",
    "    title=dict(text='Star Types',x=0.47,y=0.98,\n",
    "               font=dict(color=colors_dark[2],size=20)),\n",
    "    legend=dict(x=0.37,y=-0.05,orientation='h',traceorder='reversed'),\n",
    "    hoverlabel=dict(bgcolor='white'))\n",
    "\n",
    "fig.update_traces(textposition='outside', textinfo='percent+label')"
   ]
  },
  {
   "cell_type": "markdown",
   "metadata": {},
   "source": [
    "# We are inetersted in the Hot Giants\n",
    "## Cold Spectral Types are: M,K, and G."
   ]
  },
  {
   "cell_type": "code",
   "execution_count": null,
   "metadata": {},
   "outputs": [],
   "source": [
    "df['ColdTypes'] = df['SpType']"
   ]
  },
  {
   "cell_type": "code",
   "execution_count": null,
   "metadata": {},
   "outputs": [],
   "source": [
    "def ColdTypes(row):\n",
    "    if row['ColdTypes'].startswith('M') or row['ColdTypes'].startswith('K') or row['ColdTypes'].startswith('G'):\n",
    "        return 1\n",
    "    else:\n",
    "        return 0"
   ]
  },
  {
   "cell_type": "code",
   "execution_count": null,
   "metadata": {},
   "outputs": [],
   "source": [
    "df['ColdTypes'] = df.apply (lambda row: ColdTypes(row), axis=1)"
   ]
  },
  {
   "cell_type": "code",
   "execution_count": null,
   "metadata": {},
   "outputs": [],
   "source": [
    "df"
   ]
  },
  {
   "cell_type": "code",
   "execution_count": null,
   "metadata": {},
   "outputs": [],
   "source": [
    "d= pd.DataFrame(df['ColdTypes'].value_counts())\n",
    "fig = px.pie(d,values='ColdTypes',names=['Cold','Hot'],hole=0.4,\n",
    "            color_discrete_sequence=[colors_blue[3],colors_dark[3]],\n",
    "             labels={'label':'GiantOrDwarf','GiantOrDwarf':'No. Of Samples'})\n",
    "\n",
    "\n",
    "fig.add_annotation(text='Need to resample the data<br> to get a balanced dataset',\n",
    "                   x=1.2,y=0.9,showarrow=False,font_size=12,opacity=0.7,font_family='arial')\n",
    "fig.add_annotation(text='Classified Stars',\n",
    "                   x=0.5,y=0.5,showarrow=False,font_size=12,opacity=0.7,font_family='arial')\n",
    "\n",
    "fig.update_layout(\n",
    "    font_family='arial',\n",
    "    title=dict(text='Star Types',x=0.47,y=0.98,\n",
    "               font=dict(color=colors_dark[2],size=20)),\n",
    "    legend=dict(x=0.37,y=-0.05,orientation='h',traceorder='reversed'),\n",
    "    hoverlabel=dict(bgcolor='white'))\n",
    "\n",
    "fig.update_traces(textposition='outside', textinfo='percent+label')"
   ]
  },
  {
   "cell_type": "code",
   "execution_count": null,
   "metadata": {
    "scrolled": true
   },
   "outputs": [],
   "source": [
    "df.shape"
   ]
  },
  {
   "cell_type": "code",
   "execution_count": null,
   "metadata": {
    "scrolled": true
   },
   "outputs": [],
   "source": [
    "df.columns"
   ]
  },
  {
   "cell_type": "code",
   "execution_count": null,
   "metadata": {},
   "outputs": [],
   "source": [
    "print(df[\"Amag\"].plot.kde())"
   ]
  },
  {
   "cell_type": "markdown",
   "metadata": {},
   "source": [
    "# Trying to understand Some feature Relations"
   ]
  },
  {
   "cell_type": "code",
   "execution_count": null,
   "metadata": {
    "scrolled": true
   },
   "outputs": [],
   "source": [
    "fig = px.scatter(df, x=\"Temp\", y=\"Luminosity\",\n",
    "                 color=\"GiantOrDwarf\",log_x=True, log_y=True, template = 'plotly_dark', title= 'Temperatue vs Luminosity')\n",
    "fig.show()"
   ]
  },
  {
   "cell_type": "code",
   "execution_count": null,
   "metadata": {
    "scrolled": false
   },
   "outputs": [],
   "source": [
    "fig = px.scatter(df, x=\"Temp\", y=\"Amag\",\n",
    "                 color=\"B-V\",log_x=True, log_y=True, template = 'plotly_dark', title= ' Amag Vs. Temp')\n",
    "fig.show()"
   ]
  },
  {
   "cell_type": "code",
   "execution_count": null,
   "metadata": {},
   "outputs": [],
   "source": []
  },
  {
   "cell_type": "markdown",
   "metadata": {},
   "source": [
    "## Stellar (PlX): parallax is the apparent shift of position of any nearby star (or other object) against the background of distant objects.\n",
    "\n",
    "## let us calculate the distance between each blackhole and earth\n",
    "\n",
    "<img src=\"http://astronomyonline.org/Science/Images/Mathematics/Parallax.gif\">\n",
    "<img src=\"https://excelnotes.com/wp-content/uploads/2020/09/parsec-to-kilometer.jpg\">\n"
   ]
  },
  {
   "cell_type": "code",
   "execution_count": null,
   "metadata": {},
   "outputs": [],
   "source": [
    "df['Distance(Km)'] = ((1/df['Plx'])*(3.08567758149137*(10**13)))"
   ]
  },
  {
   "cell_type": "code",
   "execution_count": null,
   "metadata": {},
   "outputs": [],
   "source": [
    "df['Distance(parsec)'] = ((1/df['Plx']))"
   ]
  },
  {
   "cell_type": "code",
   "execution_count": null,
   "metadata": {},
   "outputs": [],
   "source": [
    "df.describe().T"
   ]
  },
  {
   "cell_type": "markdown",
   "metadata": {},
   "source": [
    "# We are interested in the Mass as we need the Biggest Star Masses only to be counted as the stars which could form a black hole according to ( Schwardzchild radius law) must be 30 times bigger than the sun:"
   ]
  },
  {
   "cell_type": "markdown",
   "metadata": {},
   "source": [
    "# I need my stars to be in the main sequence to be able to calculate their Mass correctly as: \n",
    "<img src=\"http://www.astronomy.ohio-state.edu/~pogge/Ast162/Unit2/Images/MLrel_eqn.gif\">\n",
    "\n",
    "- Main sequence stars have a Morgan-Keenan luminosity class labelled V"
   ]
  },
  {
   "cell_type": "code",
   "execution_count": null,
   "metadata": {},
   "outputs": [],
   "source": [
    "df"
   ]
  },
  {
   "cell_type": "code",
   "execution_count": null,
   "metadata": {},
   "outputs": [],
   "source": [
    "def Main_Seq(row):\n",
    "    if row['GiantOrDwarf'] == 1 :\n",
    "        for i in range(len(df['SpType'])):\n",
    "            if \"V\" in df.loc[i,'SpType']:\n",
    "                return 1\n",
    "               \n",
    "    else:\n",
    "        return 0\n",
    "    "
   ]
  },
  {
   "cell_type": "code",
   "execution_count": null,
   "metadata": {},
   "outputs": [],
   "source": [
    "df['MainSeq'] = df.apply (lambda row: Main_Seq(row), axis=1)"
   ]
  },
  {
   "cell_type": "code",
   "execution_count": null,
   "metadata": {},
   "outputs": [],
   "source": [
    "df[\"MainSeq\"] = df[\"MainSeq\"].fillna(0)"
   ]
  },
  {
   "cell_type": "code",
   "execution_count": null,
   "metadata": {
    "scrolled": true
   },
   "outputs": [],
   "source": [
    "df['MainSeq'].value_counts()"
   ]
  },
  {
   "cell_type": "markdown",
   "metadata": {},
   "source": [
    "- Sun Lum = 3.846 × 10**26\n",
    "- Sun Mass = 1.9891e30"
   ]
  },
  {
   "cell_type": "code",
   "execution_count": null,
   "metadata": {},
   "outputs": [],
   "source": [
    "df['Mass'] = (np.sqrt(np.sqrt(df['Luminosity']/(3.846*(10**26)))))*(1.9891*(10**30))"
   ]
  },
  {
   "cell_type": "code",
   "execution_count": null,
   "metadata": {
    "scrolled": true
   },
   "outputs": [],
   "source": [
    "fig = px.scatter(df,\n",
    "                 x=\"B-V\", y='Mass', size=\"Mass\",color='GiantOrDwarf',\n",
    "                  size_max=60,\n",
    "                 template='plotly_dark', title='Star Type vs Mass as size')\n",
    "fig.show() "
   ]
  },
  {
   "cell_type": "code",
   "execution_count": null,
   "metadata": {},
   "outputs": [],
   "source": [
    "df.describe()"
   ]
  },
  {
   "cell_type": "markdown",
   "metadata": {},
   "source": [
    "## Finding the sun in the dataset:\n",
    " \n",
    "- we know that Sun's SpType is G2V and Its BV is 0.65"
   ]
  },
  {
   "cell_type": "code",
   "execution_count": null,
   "metadata": {
    "scrolled": true
   },
   "outputs": [],
   "source": [
    "df.loc[df['B-V'] == 0.650] #& bool_series = df[\"SpType\"].str.startswith(search,na = False)"
   ]
  },
  {
   "cell_type": "code",
   "execution_count": null,
   "metadata": {
    "scrolled": true
   },
   "outputs": [],
   "source": [
    "df.loc[df['Plx'] == 742.119995]"
   ]
  },
  {
   "cell_type": "markdown",
   "metadata": {},
   "source": [
    "### Nearist estimation is column 33043 with mass = 5.225973e+21"
   ]
  },
  {
   "cell_type": "code",
   "execution_count": null,
   "metadata": {},
   "outputs": [],
   "source": [
    "\"\"\"\"\n",
    "# String to be searched in start of string \n",
    "search =\"G2V\"\n",
    "  \n",
    "# boolean series returned\n",
    "bool_series = df[\"SpType\"].str.startswith(search,na = False)\n",
    "df[bool_series].head(50)\n",
    "\"\"\""
   ]
  },
  {
   "cell_type": "markdown",
   "metadata": {},
   "source": [
    "## Now let us Calculate Our Estimated Star's Mass which could form a black hole:"
   ]
  },
  {
   "cell_type": "code",
   "execution_count": null,
   "metadata": {},
   "outputs": [],
   "source": [
    "x = 5.225973*(10**21)\n",
    "b= (x)*30\n",
    "b "
   ]
  },
  {
   "cell_type": "code",
   "execution_count": null,
   "metadata": {},
   "outputs": [],
   "source": [
    "df.describe()"
   ]
  },
  {
   "cell_type": "markdown",
   "metadata": {},
   "source": [
    "# Now we have all the values that could probably form a black hole as:\n",
    "\n",
    "- if the star is a Hot type and giant (Like in the Hertzsprung–Russell diagram) [in our data hot = 0].\n",
    "- if the stars B-V below  1 which means its color is reaching the blue\n",
    "- If it is a giant star..\n",
    "- if its a main sequence star.\n",
    "- if it mass is 30 times bigger than our estimated sun in this data.\n",
    "\n",
    "<img src=\"https://news.harvard.edu/wp-content/uploads/2020/03/F1.large-2-1200x800.jpg\">"
   ]
  },
  {
   "cell_type": "markdown",
   "metadata": {},
   "source": [
    "# Now, let us create the Possible_Black_Holes Function:"
   ]
  },
  {
   "cell_type": "code",
   "execution_count": null,
   "metadata": {},
   "outputs": [],
   "source": [
    "def Possible_Black_Holes(row):\n",
    "    if row['GiantOrDwarf'] == 1 :\n",
    "        if row['Mass'] >= b :\n",
    "            return 1\n",
    "               \n",
    "    else:\n",
    "        return 0"
   ]
  },
  {
   "cell_type": "code",
   "execution_count": null,
   "metadata": {},
   "outputs": [],
   "source": [
    "df['BlackHoles'] = df.apply (lambda row: Possible_Black_Holes(row), axis=1)"
   ]
  },
  {
   "cell_type": "code",
   "execution_count": null,
   "metadata": {},
   "outputs": [],
   "source": [
    "df[\"BlackHoles\"] = df[\"BlackHoles\"].fillna(0)"
   ]
  },
  {
   "cell_type": "code",
   "execution_count": null,
   "metadata": {
    "scrolled": true
   },
   "outputs": [],
   "source": [
    "df['BlackHoles'].value_counts()"
   ]
  },
  {
   "cell_type": "code",
   "execution_count": null,
   "metadata": {},
   "outputs": [],
   "source": [
    "y = 7/36181\n",
    "print ('the percentage of a Black hole formation in this data is: ' ,y * 100, '%')"
   ]
  },
  {
   "cell_type": "markdown",
   "metadata": {},
   "source": [
    "## Let us Visualize Our Possible Future Black Holes:"
   ]
  },
  {
   "cell_type": "code",
   "execution_count": null,
   "metadata": {},
   "outputs": [],
   "source": [
    "Positive = df[df.BlackHoles == 1]"
   ]
  },
  {
   "cell_type": "code",
   "execution_count": null,
   "metadata": {},
   "outputs": [],
   "source": [
    "Positive"
   ]
  },
  {
   "cell_type": "code",
   "execution_count": null,
   "metadata": {},
   "outputs": [],
   "source": [
    "plot(df, 'BlackHoles')"
   ]
  },
  {
   "cell_type": "code",
   "execution_count": null,
   "metadata": {
    "scrolled": true
   },
   "outputs": [],
   "source": [
    "plot(Positive)"
   ]
  },
  {
   "cell_type": "code",
   "execution_count": null,
   "metadata": {
    "scrolled": true
   },
   "outputs": [],
   "source": [
    "d= pd.DataFrame(df['BlackHoles'].value_counts())\n",
    "fig = px.pie(d,values='BlackHoles',names=['Normal','Black Holes'],hole=0.4,\n",
    "            color_discrete_sequence=[colors_blue[3],colors_dark[1]],\n",
    "             labels={'label':'BlackHoles','BlackHoles':'No. Of Samples'})\n",
    "\n",
    "\n",
    "fig.add_annotation(text='Need to resample the data<br> to get a balanced dataset',\n",
    "                   x=1.2,y=0.9,showarrow=False,font_size=12,opacity=0.7,font_family='arial')\n",
    "fig.add_annotation(text='Possible Black Holes',\n",
    "                   x=0.5,y=0.5,showarrow=False,font_size=12,opacity=0.7,font_family='arial')\n",
    "\n",
    "fig.update_layout(\n",
    "    font_family='arial',\n",
    "    title=dict(text='Star Types',x=0.47,y=0.98,\n",
    "               font=dict(color=colors_dark[2],size=20)),\n",
    "    legend=dict(x=0.37,y=-0.05,orientation='h',traceorder='reversed'),\n",
    "    hoverlabel=dict(bgcolor='white'))\n",
    "\n",
    "fig.update_traces(textposition='outside', textinfo='percent+label')"
   ]
  },
  {
   "cell_type": "code",
   "execution_count": null,
   "metadata": {},
   "outputs": [],
   "source": [
    "fig = px.scatter(Positive,\n",
    "                 x=\"Temp\", y='Luminosity', size=\"BlackHoles\", color=\"SpType\",\n",
    "                 log_x=True, size_max=60,\n",
    "                 template='plotly_dark', title='Possible 7 Black Holes Types, Luminosity, and Amag')\n",
    "fig.show()"
   ]
  },
  {
   "cell_type": "code",
   "execution_count": null,
   "metadata": {},
   "outputs": [],
   "source": [
    "\n",
    "df.columns"
   ]
  },
  {
   "cell_type": "code",
   "execution_count": null,
   "metadata": {},
   "outputs": [],
   "source": [
    "fig = px.scatter(Positive, y=\"Plx\", x=\"BlackHoles\",\n",
    "                 color=\"BlackHoles\",log_x=True, log_y=True, template = 'plotly_dark', title='Plx of the Possible Black holes')\n",
    "fig.show()"
   ]
  },
  {
   "cell_type": "code",
   "execution_count": null,
   "metadata": {},
   "outputs": [],
   "source": [
    "fig = px.scatter_3d(Positive, x=\"Plx\", y='BlackHoles', z='Luminosity',\n",
    "              color='B-V', template = 'plotly_dark', title = 'Possible Black hole s Plx and Luminosity')\n",
    "fig.show()"
   ]
  },
  {
   "cell_type": "code",
   "execution_count": null,
   "metadata": {},
   "outputs": [],
   "source": [
    "fig, axes = plt.subplots(1,2, figsize=(20,6))\n",
    "\n",
    "sns.kdeplot(data = df['Amag'].loc[df['BlackHoles']==0], shade=True, ax = axes[0],label='Negative')\n",
    "sns.kdeplot(data = df['Amag'].loc[df['BlackHoles']==1], shade=True, ax = axes[0],label='Positive')\n",
    "axes[0].legend()\n",
    "\n",
    "axes[0].set_xlabel('Absolute Magnitude', size=14)\n",
    "sns.kdeplot(data = df['Vmag'].loc[df['BlackHoles']==0], shade=True, ax = axes[1],label='Negative')\n",
    "sns.kdeplot(data = df['Vmag'].loc[df['BlackHoles']==1], shade=True, ax = axes[1],label='Positive')\n",
    "axes[1].legend()\n",
    "\n",
    "axes[1].set_xlabel('Apparent Magnitude', size=14)"
   ]
  },
  {
   "cell_type": "markdown",
   "metadata": {},
   "source": [
    "## Let Us Try Modelling!"
   ]
  },
  {
   "cell_type": "code",
   "execution_count": null,
   "metadata": {},
   "outputs": [],
   "source": [
    "from sklearn.model_selection import train_test_split\n",
    "from sklearn.preprocessing import StandardScaler\n",
    "from sklearn.linear_model import LogisticRegression\n",
    "from sklearn.metrics import confusion_matrix\n",
    "from sklearn.metrics import accuracy_score\n",
    "from sklearn.metrics import confusion_matrix,accuracy_score, classification_report"
   ]
  },
  {
   "cell_type": "code",
   "execution_count": null,
   "metadata": {},
   "outputs": [],
   "source": [
    "# Separate the labels\n",
    "Positive = df[df.BlackHoles == 1]\n",
    "Negative = df[df.BlackHoles == 0]"
   ]
  },
  {
   "cell_type": "code",
   "execution_count": null,
   "metadata": {},
   "outputs": [],
   "source": [
    "num_of_positive = Positive.shape[0]\n",
    "num_of_negative = Negative.shape[0]\n",
    "print(\"Positive(1):\",num_of_positive)\n",
    "print(\"Negative(0):\",num_of_negative)"
   ]
  },
  {
   "cell_type": "markdown",
   "metadata": {},
   "source": [
    "## Balancing the Data:"
   ]
  },
  {
   "cell_type": "code",
   "execution_count": null,
   "metadata": {},
   "outputs": [],
   "source": [
    "from sklearn.utils import resample"
   ]
  },
  {
   "cell_type": "code",
   "execution_count": null,
   "metadata": {},
   "outputs": [],
   "source": [
    "# Downsample majority class\n",
    "df_positive_downsampled = resample(Positive, \n",
    "                                 replace=True,    # sample without replacement\n",
    "                                 n_samples=num_of_negative,     # to match minority class\n",
    "                                 random_state=1) # reproducible results\n",
    " \n",
    "# Combine minority class with downsampled majority class\n",
    "df_downsampled = pd.concat([df_positive_downsampled, Negative])"
   ]
  },
  {
   "cell_type": "code",
   "execution_count": null,
   "metadata": {},
   "outputs": [],
   "source": [
    "df_downsampled['BlackHoles'].value_counts()"
   ]
  },
  {
   "cell_type": "code",
   "execution_count": null,
   "metadata": {},
   "outputs": [],
   "source": [
    "sns.countplot(df_downsampled['BlackHoles'])"
   ]
  },
  {
   "cell_type": "code",
   "execution_count": null,
   "metadata": {},
   "outputs": [],
   "source": [
    "df.columns"
   ]
  },
  {
   "cell_type": "code",
   "execution_count": null,
   "metadata": {},
   "outputs": [],
   "source": [
    "y = df['BlackHoles']\n",
    "\n",
    "# Select Features\n",
    "x = df[['B-V','Amag','GiantOrDwarf','ColdTypes','Radius', 'Plx', 'MainSeq', 'Mass' ]]"
   ]
  },
  {
   "cell_type": "code",
   "execution_count": null,
   "metadata": {},
   "outputs": [],
   "source": [
    "x_train, x_test, y_train, y_test = train_test_split(x,y, test_size = 0.35, random_state=0)"
   ]
  },
  {
   "cell_type": "code",
   "execution_count": null,
   "metadata": {},
   "outputs": [],
   "source": [
    "scaler = StandardScaler()"
   ]
  },
  {
   "cell_type": "code",
   "execution_count": null,
   "metadata": {},
   "outputs": [],
   "source": [
    "x_train = scaler.fit_transform(x_train)\n",
    "x_test = scaler.transform(x_test)"
   ]
  },
  {
   "cell_type": "code",
   "execution_count": null,
   "metadata": {},
   "outputs": [],
   "source": [
    "x_train.shape"
   ]
  },
  {
   "cell_type": "code",
   "execution_count": null,
   "metadata": {},
   "outputs": [],
   "source": [
    "x_test.shape"
   ]
  },
  {
   "cell_type": "markdown",
   "metadata": {},
   "source": [
    "- FN = there is a black hole and we said that it is a normal star (recall)\n",
    "- FP = There is a normal star and we said that it is a black hole (precision)\n",
    "- we need the lowest FN \n",
    "- so we need the highst Recall\n",
    "<img src=\"https://cdn-images-1.medium.com/max/950/1*PPgItHcPSaskyjLMWFC-Kw.png\">\n"
   ]
  },
  {
   "cell_type": "markdown",
   "metadata": {},
   "source": [
    "## LogisticRegression"
   ]
  },
  {
   "cell_type": "code",
   "execution_count": null,
   "metadata": {},
   "outputs": [],
   "source": [
    "star_predictor = LogisticRegression(random_state=0)"
   ]
  },
  {
   "cell_type": "code",
   "execution_count": null,
   "metadata": {},
   "outputs": [],
   "source": [
    "star_predictor.fit(x_train, y_train)"
   ]
  },
  {
   "cell_type": "code",
   "execution_count": null,
   "metadata": {},
   "outputs": [],
   "source": [
    "print('the score on train dataset is') \n",
    "print(star_predictor.score(x_train, y_train))"
   ]
  },
  {
   "cell_type": "code",
   "execution_count": null,
   "metadata": {},
   "outputs": [],
   "source": [
    "y_pred = star_predictor.predict(x_test)"
   ]
  },
  {
   "cell_type": "code",
   "execution_count": null,
   "metadata": {},
   "outputs": [],
   "source": [
    "print(\"Test Accuracy : \", accuracy_score(y_test, y_pred))"
   ]
  },
  {
   "cell_type": "code",
   "execution_count": null,
   "metadata": {},
   "outputs": [],
   "source": [
    "print(classification_report(y_test, y_pred))"
   ]
  },
  {
   "cell_type": "code",
   "execution_count": null,
   "metadata": {
    "scrolled": true
   },
   "outputs": [],
   "source": [
    "sns.heatmap(confusion_matrix(y_test, y_pred),annot=True,fmt='',cmap='YlGnBu')"
   ]
  },
  {
   "cell_type": "code",
   "execution_count": null,
   "metadata": {},
   "outputs": [],
   "source": [
    "from sklearn.metrics import roc_curve\n",
    "\n",
    "fpr, tpr, thresholds = roc_curve(y_test, y_pred)\n"
   ]
  },
  {
   "cell_type": "code",
   "execution_count": null,
   "metadata": {},
   "outputs": [],
   "source": [
    "plt.plot(fpr, tpr)  \n",
    "plt.xlabel(\"False Positive Rate\")  \n",
    "plt.ylabel(\"True Positive Rate\")  \n",
    "plt.plot([0, 1], [0, 1], \"k--\")\n",
    "\n",
    "plt.show()\n"
   ]
  },
  {
   "cell_type": "markdown",
   "metadata": {},
   "source": [
    "## KNN"
   ]
  },
  {
   "cell_type": "code",
   "execution_count": null,
   "metadata": {},
   "outputs": [],
   "source": [
    "from sklearn.neighbors import KNeighborsClassifier"
   ]
  },
  {
   "cell_type": "code",
   "execution_count": null,
   "metadata": {},
   "outputs": [],
   "source": [
    "star_predictor = KNeighborsClassifier(n_neighbors=3)\n",
    "star_predictor.fit(x_train, y_train)"
   ]
  },
  {
   "cell_type": "code",
   "execution_count": null,
   "metadata": {},
   "outputs": [],
   "source": [
    "print('the score on train dataset is') \n",
    "print(star_predictor.score(x_train, y_train))"
   ]
  },
  {
   "cell_type": "code",
   "execution_count": null,
   "metadata": {},
   "outputs": [],
   "source": [
    "y_pred = star_predictor.predict(x_test)"
   ]
  },
  {
   "cell_type": "code",
   "execution_count": null,
   "metadata": {},
   "outputs": [],
   "source": [
    "print(\"Accuracy : \", accuracy_score(y_test, y_pred))"
   ]
  },
  {
   "cell_type": "code",
   "execution_count": null,
   "metadata": {},
   "outputs": [],
   "source": [
    "print(classification_report(y_test, y_pred))"
   ]
  },
  {
   "cell_type": "code",
   "execution_count": null,
   "metadata": {},
   "outputs": [],
   "source": [
    "sns.heatmap(confusion_matrix(y_test, y_pred),annot=True,fmt='',cmap='YlGnBu')"
   ]
  },
  {
   "cell_type": "code",
   "execution_count": null,
   "metadata": {},
   "outputs": [],
   "source": [
    "fpr, tpr, thresholds = roc_curve(y_test, y_pred)\n",
    "plt.plot(fpr, tpr)  \n",
    "plt.xlabel(\"False Positive Rate\")  \n",
    "plt.ylabel(\"True Positive Rate\")  \n",
    "plt.plot([0, 1], [0, 1], \"k--\")\n",
    "\n",
    "plt.show()\n"
   ]
  },
  {
   "cell_type": "markdown",
   "metadata": {},
   "source": [
    "## GaussianNB"
   ]
  },
  {
   "cell_type": "code",
   "execution_count": null,
   "metadata": {},
   "outputs": [],
   "source": [
    "star_predictor = GaussianNB()\n",
    "star_predictor.fit(x_train, y_train)"
   ]
  },
  {
   "cell_type": "code",
   "execution_count": null,
   "metadata": {},
   "outputs": [],
   "source": [
    "print('the score on train dataset is') \n",
    "print(star_predictor.score(x_train, y_train))"
   ]
  },
  {
   "cell_type": "code",
   "execution_count": null,
   "metadata": {},
   "outputs": [],
   "source": [
    "y_pred = star_predictor.predict(x_test)"
   ]
  },
  {
   "cell_type": "code",
   "execution_count": null,
   "metadata": {},
   "outputs": [],
   "source": [
    "print(\"Accuracy : \", accuracy_score(y_test, y_pred))"
   ]
  },
  {
   "cell_type": "code",
   "execution_count": null,
   "metadata": {},
   "outputs": [],
   "source": [
    "print(classification_report(y_test, y_pred))"
   ]
  },
  {
   "cell_type": "code",
   "execution_count": null,
   "metadata": {
    "scrolled": true
   },
   "outputs": [],
   "source": [
    "sns.heatmap(confusion_matrix(y_test, y_pred),annot=True,fmt='',cmap='YlGnBu')"
   ]
  },
  {
   "cell_type": "code",
   "execution_count": null,
   "metadata": {},
   "outputs": [],
   "source": [
    "fpr, tpr, thresholds = roc_curve(y_test, y_pred)\n",
    "plt.plot(fpr, tpr)  \n",
    "plt.xlabel(\"False Positive Rate\")  \n",
    "plt.ylabel(\"True Positive Rate\")  \n",
    "plt.plot([0, 1], [0, 1], \"k--\")\n",
    "\n",
    "plt.show()\n",
    "\n"
   ]
  },
  {
   "cell_type": "code",
   "execution_count": null,
   "metadata": {},
   "outputs": [],
   "source": [
    "#from sklearn.inspection import permutation_importance\n",
    "\n",
    "#star_predictor.feature_importances_"
   ]
  },
  {
   "cell_type": "markdown",
   "metadata": {},
   "source": [
    "## SVC"
   ]
  },
  {
   "cell_type": "code",
   "execution_count": null,
   "metadata": {},
   "outputs": [],
   "source": [
    "from sklearn.svm import SVC\n",
    "star_predictor = SVC()\n",
    "star_predictor.fit(x_train, y_train)  "
   ]
  },
  {
   "cell_type": "code",
   "execution_count": null,
   "metadata": {},
   "outputs": [],
   "source": []
  },
  {
   "cell_type": "code",
   "execution_count": null,
   "metadata": {},
   "outputs": [],
   "source": [
    "print('the score on train dataset is') \n",
    "print(star_predictor.score(x_train, y_train))"
   ]
  },
  {
   "cell_type": "code",
   "execution_count": null,
   "metadata": {},
   "outputs": [],
   "source": [
    "y_pred = star_predictor.predict(x_test)"
   ]
  },
  {
   "cell_type": "code",
   "execution_count": null,
   "metadata": {
    "scrolled": true
   },
   "outputs": [],
   "source": [
    "print(\"Accuracy : \", accuracy_score(y_test, y_pred))"
   ]
  },
  {
   "cell_type": "code",
   "execution_count": null,
   "metadata": {},
   "outputs": [],
   "source": [
    "print(classification_report(y_test, y_pred))"
   ]
  },
  {
   "cell_type": "code",
   "execution_count": null,
   "metadata": {
    "scrolled": true
   },
   "outputs": [],
   "source": [
    "sns.heatmap(confusion_matrix(y_test, y_pred),annot=True,fmt='',cmap='YlGnBu')"
   ]
  },
  {
   "cell_type": "code",
   "execution_count": null,
   "metadata": {},
   "outputs": [],
   "source": [
    "fpr, tpr, thresholds = roc_curve(y_test, y_pred)\n",
    "plt.plot(fpr, tpr)  \n",
    "plt.xlabel(\"False Positive Rate\")  \n",
    "plt.ylabel(\"True Positive Rate\")  \n",
    "plt.plot([0, 1], [0, 1], \"k--\")\n",
    "\n",
    "plt.show()\n",
    "\n"
   ]
  },
  {
   "cell_type": "markdown",
   "metadata": {},
   "source": [
    "## ANN"
   ]
  },
  {
   "cell_type": "code",
   "execution_count": null,
   "metadata": {},
   "outputs": [],
   "source": [
    "import tensorflow as tf"
   ]
  },
  {
   "cell_type": "code",
   "execution_count": null,
   "metadata": {},
   "outputs": [],
   "source": [
    "ann = tf.keras.models.Sequential()"
   ]
  },
  {
   "cell_type": "code",
   "execution_count": null,
   "metadata": {},
   "outputs": [],
   "source": [
    "ann.add(tf.keras.layers.Dense(units = 64, activation = 'relu'))\n",
    "ann.add(tf.keras.layers.Dense(units = 32, activation = 'relu'))\n",
    "ann.add(tf.keras.layers.Dense(units = 1, activation = 'sigmoid'))"
   ]
  },
  {
   "cell_type": "code",
   "execution_count": null,
   "metadata": {},
   "outputs": [],
   "source": [
    "ann.compile(optimizer='adam', loss='binary_crossentropy', metrics= ['accuracy'])"
   ]
  },
  {
   "cell_type": "code",
   "execution_count": null,
   "metadata": {},
   "outputs": [],
   "source": [
    "ann.fit(x_train, y_train, epochs=100, batch_size=32)"
   ]
  },
  {
   "cell_type": "code",
   "execution_count": null,
   "metadata": {},
   "outputs": [],
   "source": [
    "y_pred = ann.predict(x_test)\n",
    "y_pred = (y_pred > 0.5)"
   ]
  },
  {
   "cell_type": "code",
   "execution_count": null,
   "metadata": {
    "scrolled": true
   },
   "outputs": [],
   "source": [
    "print(classification_report(y_test, y_pred))"
   ]
  },
  {
   "cell_type": "code",
   "execution_count": null,
   "metadata": {},
   "outputs": [],
   "source": [
    "sns.heatmap(confusion_matrix(y_test, y_pred),annot=True,fmt='',cmap='YlGnBu')"
   ]
  },
  {
   "cell_type": "code",
   "execution_count": null,
   "metadata": {},
   "outputs": [],
   "source": [
    "print(\"Accuracy : \", accuracy_score(y_test, y_pred))"
   ]
  },
  {
   "cell_type": "code",
   "execution_count": null,
   "metadata": {},
   "outputs": [],
   "source": [
    "fpr, tpr, thresholds = roc_curve(y_test, y_pred)\n",
    "plt.plot(fpr, tpr)  \n",
    "plt.xlabel(\"False Positive Rate\")  \n",
    "plt.ylabel(\"True Positive Rate\")  \n",
    "plt.plot([0, 1], [0, 1], \"k--\")\n",
    "\n",
    "plt.show()"
   ]
  },
  {
   "cell_type": "code",
   "execution_count": null,
   "metadata": {},
   "outputs": [],
   "source": []
  },
  {
   "cell_type": "markdown",
   "metadata": {},
   "source": [
    "## Random Forest"
   ]
  },
  {
   "cell_type": "code",
   "execution_count": null,
   "metadata": {},
   "outputs": [],
   "source": [
    "from sklearn.ensemble import RandomForestClassifier\n",
    "star_predictor = RandomForestClassifier(max_depth=4, random_state=0)\n",
    "star_predictor.fit(x_train, y_train)  "
   ]
  },
  {
   "cell_type": "code",
   "execution_count": null,
   "metadata": {},
   "outputs": [],
   "source": [
    "\n",
    "print('the score on train dataset is') \n",
    "print(star_predictor.score(x_train, y_train))"
   ]
  },
  {
   "cell_type": "code",
   "execution_count": null,
   "metadata": {},
   "outputs": [],
   "source": [
    "y_pred = star_predictor.predict(x_test)"
   ]
  },
  {
   "cell_type": "code",
   "execution_count": null,
   "metadata": {
    "scrolled": true
   },
   "outputs": [],
   "source": [
    "print(\"Accuracy : \", accuracy_score(y_test, y_pred))"
   ]
  },
  {
   "cell_type": "code",
   "execution_count": null,
   "metadata": {},
   "outputs": [],
   "source": [
    "print(classification_report(y_test, y_pred))"
   ]
  },
  {
   "cell_type": "code",
   "execution_count": null,
   "metadata": {
    "scrolled": true
   },
   "outputs": [],
   "source": [
    "sns.heatmap(confusion_matrix(y_test, y_pred),annot=True,fmt='',cmap='YlGnBu')"
   ]
  },
  {
   "cell_type": "code",
   "execution_count": null,
   "metadata": {},
   "outputs": [],
   "source": [
    "fpr, tpr, thresholds = roc_curve(y_test, y_pred)\n",
    "plt.plot(fpr, tpr)  \n",
    "plt.xlabel(\"False Positive Rate\")  \n",
    "plt.ylabel(\"True Positive Rate\")  \n",
    "plt.plot([0, 1], [0, 1], \"k--\")\n",
    "\n",
    "plt.show()\n",
    "\n"
   ]
  },
  {
   "cell_type": "code",
   "execution_count": null,
   "metadata": {},
   "outputs": [],
   "source": [
    "df.shape"
   ]
  },
  {
   "cell_type": "code",
   "execution_count": null,
   "metadata": {},
   "outputs": [],
   "source": [
    "df['MainSeq'].value_counts()"
   ]
  },
  {
   "cell_type": "code",
   "execution_count": null,
   "metadata": {},
   "outputs": [],
   "source": [
    "17286 / 7"
   ]
  },
  {
   "cell_type": "markdown",
   "metadata": {},
   "source": [
    "# KNN is the best algorithm that fits our algorithm perfctly with 0 Miss-classified  Possible Black holes and 1 wrongly classified star.\n",
    "\n",
    "\n",
    "## \"Roughly one out of every thousand stars that form is massive enough to become a black hole, Most of these are invisible to us, and only about a dozen have been identified\".\n",
    "\n",
    "- https://www.stsci.edu/~marel/black_holes/encyc_mod3_q7.html \n",
    "\n",
    "\n",
    "## In our data, out of 36188 record, and  17286 in the main sequence which we done our estimation on, there are 11 possible black hole. which means that roughly in every 2469 main sequence star star there is a possible black hole detection."
   ]
  },
  {
   "cell_type": "markdown",
   "metadata": {},
   "source": [
    "# Scientific resources:\n",
    "\n",
    "\n",
    "- Coursera Astronomy Data Driven Course From The University of Sydeny: \n",
    "#### https://www.coursera.org/learn/data-driven-astronomy/home/welcome\n",
    "\n",
    "\n",
    "- Hertzsprung-Russell Diagram:\n",
    "#### https://astronomy.swin.edu.au/cosmos/h/hertzsprung-russell+diagram\n",
    "\n",
    "\n",
    "- Star Mass:\n",
    "#### https://www.researchgate.net/figure/Mass-radius-relation-for-Kepler-red-giants-with-RGB-stars-in-blue-and-clump-stars-in_fig6_257882348\n",
    "\n",
    "\n",
    "- Black Hole propertries: \n",
    "#### https://public.nrao.edu/ask/properties-of-stars-which-result-in-black-holes/\n",
    "#### https://public.nrao.edu/ask/what-is-the-critical-mass-at-which-a-star-becomes-a-black-hole/\n",
    "\n",
    "\n",
    "- PRINCIPLES OF STELLAR STRUCTURE (OHIO State University)\n",
    "#### http://www.astronomy.ohio-state.edu/~dhw/Intro/lec6.html\n",
    "#### http://www.astronomy.ohio-state.edu/~pogge/Ast162/Unit2/structure.html\n",
    "\n",
    "\n",
    "- Finding Our Sun From Amag: \n",
    "#### https://arxiv.org/abs/1804.07788 \n",
    "\n",
    "\n",
    "- Blackbody Radiation and Quantization of Energy fot Luminosity and B-V:\n",
    "#### https://web.njit.edu/~gary/321/Lecture2.html\n",
    "\n",
    "\n",
    "- Finding Temperature and Spectral Type Based on Ballesteros equation: \n",
    "#### http://astro.physics.uiowa.edu/ITU/labs/professional-labs/photometry-of-a-globular/part-2-finding-temperature.html\n",
    "\n",
    "\n",
    "- Calculating the Radius of a Star:\n",
    "#### https://cas.sdss.org/dr4/en/proj/advanced/hr/radius1.asp\n",
    "\n",
    "\n",
    "- Brightest Stars: Luminosity & Magnitude:\n",
    "#### https://www.space.com/21640-star-luminosity-and-magnitude.html\n",
    "\n",
    "\n",
    "- Distance Parallax equation:\n",
    "#### http://astronomyonline.org/Science/Parallax.asp \n",
    "\n",
    "\n"
   ]
  },
  {
   "cell_type": "code",
   "execution_count": null,
   "metadata": {},
   "outputs": [],
   "source": []
  },
  {
   "cell_type": "code",
   "execution_count": null,
   "metadata": {},
   "outputs": [],
   "source": []
  },
  {
   "cell_type": "code",
   "execution_count": null,
   "metadata": {},
   "outputs": [],
   "source": []
  },
  {
   "cell_type": "code",
   "execution_count": null,
   "metadata": {},
   "outputs": [],
   "source": []
  },
  {
   "cell_type": "code",
   "execution_count": null,
   "metadata": {},
   "outputs": [],
   "source": []
  },
  {
   "cell_type": "code",
   "execution_count": null,
   "metadata": {},
   "outputs": [],
   "source": []
  },
  {
   "cell_type": "code",
   "execution_count": null,
   "metadata": {},
   "outputs": [],
   "source": []
  },
  {
   "cell_type": "code",
   "execution_count": null,
   "metadata": {},
   "outputs": [],
   "source": []
  },
  {
   "cell_type": "code",
   "execution_count": null,
   "metadata": {},
   "outputs": [],
   "source": []
  },
  {
   "cell_type": "code",
   "execution_count": null,
   "metadata": {},
   "outputs": [],
   "source": []
  },
  {
   "cell_type": "code",
   "execution_count": null,
   "metadata": {},
   "outputs": [],
   "source": []
  },
  {
   "cell_type": "code",
   "execution_count": null,
   "metadata": {},
   "outputs": [],
   "source": []
  },
  {
   "cell_type": "code",
   "execution_count": null,
   "metadata": {},
   "outputs": [],
   "source": []
  },
  {
   "cell_type": "code",
   "execution_count": null,
   "metadata": {},
   "outputs": [],
   "source": []
  },
  {
   "cell_type": "code",
   "execution_count": null,
   "metadata": {},
   "outputs": [],
   "source": []
  },
  {
   "cell_type": "code",
   "execution_count": null,
   "metadata": {},
   "outputs": [],
   "source": []
  },
  {
   "cell_type": "code",
   "execution_count": null,
   "metadata": {},
   "outputs": [],
   "source": []
  },
  {
   "cell_type": "code",
   "execution_count": null,
   "metadata": {},
   "outputs": [],
   "source": []
  }
 ],
 "metadata": {
  "kernelspec": {
   "display_name": "Python 3",
   "language": "python",
   "name": "python3"
  },
  "language_info": {
   "codemirror_mode": {
    "name": "ipython",
    "version": 3
   },
   "file_extension": ".py",
   "mimetype": "text/x-python",
   "name": "python",
   "nbconvert_exporter": "python",
   "pygments_lexer": "ipython3",
   "version": "3.8.5"
  }
 },
 "nbformat": 4,
 "nbformat_minor": 4
}
